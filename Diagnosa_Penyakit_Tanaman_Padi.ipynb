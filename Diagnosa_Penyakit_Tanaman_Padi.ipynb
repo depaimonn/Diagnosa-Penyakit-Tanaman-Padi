{
  "nbformat": 4,
  "nbformat_minor": 0,
  "metadata": {
    "colab": {
      "provenance": [],
      "authorship_tag": "ABX9TyM9qELc3R+Qr7A6ERg+E4dz",
      "include_colab_link": true
    },
    "kernelspec": {
      "name": "python3",
      "display_name": "Python 3"
    },
    "language_info": {
      "name": "python"
    }
  },
  "cells": [
    {
      "cell_type": "markdown",
      "metadata": {
        "id": "view-in-github",
        "colab_type": "text"
      },
      "source": [
        "<a href=\"https://colab.research.google.com/github/depaimonn/Diagnosa-Penyakit-Tanaman-Padi/blob/main/Diagnosa_Penyakit_Tanaman_Padi.ipynb\" target=\"_parent\"><img src=\"https://colab.research.google.com/assets/colab-badge.svg\" alt=\"Open In Colab\"/></a>"
      ]
    },
    {
      "cell_type": "code",
      "execution_count": null,
      "metadata": {
        "id": "SV_HYZKhJ33D"
      },
      "outputs": [],
      "source": [
        "import textwrap"
      ]
    },
    {
      "cell_type": "code",
      "source": [
        "gejala = {\n",
        "    'G1': 'Daun menguning', 'G2': 'Bercak coklat pada daun', 'G3': 'Daun mengering',\n",
        "    'G4': 'Batang busuk dan berbau', 'G5': 'Pertumbuhan terhambat', 'G6': 'Daun berlubang',\n",
        "    'G7': 'Daun berkerut', 'G8': 'Tanaman kerdil'\n",
        "}\n",
        "penyakit = {\n",
        "    'P1': 'Hawar Daun Bakteri', 'P2': 'Blas', 'P3': 'Busuk Batang', 'P4': 'Tungro'\n",
        "}"
      ],
      "metadata": {
        "id": "sB-j0eOpKZi9"
      },
      "execution_count": null,
      "outputs": []
    },
    {
      "cell_type": "code",
      "source": [
        "rules = [\n",
        "    ('G1', 'P1', 0.6), ('G2', 'P1', 0.8), ('G6', 'P1', 0.7), # Hawar Daun Bakteri\n",
        "    ('G2', 'P2', 0.7), ('G3', 'P2', 0.8), ('G5', 'P2', 0.6), # Blas\n",
        "    ('G4', 'P3', 0.9), ('G5', 'P3', 0.7), ('G1', 'P3', 0.5), # Busuk Batang\n",
        "    ('G1', 'P4', 0.8), ('G7', 'P4', 0.9), ('G8', 'P4', 0.85) # Tungro\n",
        "]\n",
        "\n",
        "rekomendasi = {\n",
        "    'P1': 'Gunakan bakterisida, lakukan sanitasi lingkungan, dan gunakan varietas padi yang tahan.',\n",
        "    'P2': 'Gunakan fungisida, atur jarak tanam, dan hindari pemupukan Nitrogen (N) berlebihan.',\n",
        "    'P3': 'Lakukan pengeringan lahan secara berkala, gunakan fungisida yang sesuai, dan bakar jerami sisa panen.',\n",
        "    'P4': 'Kendalikan vektor wereng hijau dengan insektisida dan lakukan eradikasi tanaman yang terinfeksi.'\n",
        "}"
      ],
      "metadata": {
        "id": "R1jI6kfPKgoe"
      },
      "execution_count": null,
      "outputs": []
    },
    {
      "cell_type": "code",
      "source": [
        "# Perhitungan Certainty Factor dan Forward Chaining (Sesuai Rubrik 2 & 3)\n",
        "def forward_chaining(user_cf):\n",
        "    \"\"\"\n",
        "    Mengevaluasi semua rules (forward chaining) untuk menghitung CF penyakit\n",
        "    berdasarkan CF gejala dari user.\n",
        "    \"\"\"\n",
        "    cf_penyakit = {p_code: 0.0 for p_code in penyakit.keys()}\n",
        "\n",
        "    for gej_code, pen_code, cf_rule in rules:\n",
        "        cf_user = user_cf.get(gej_code, 0.0)\n",
        "        if cf_user > 0:\n",
        "            # Formula CF(H,E) = CF(user) × CF(rule)\n",
        "            cf_evidence = cf_user * cf_rule\n",
        "\n",
        "            # Formula kombinasi: CF_kombinasi = CF_old + CF_new × (1 - CF_old)\n",
        "            cf_old = cf_penyakit[pen_code]\n",
        "            cf_penyakit[pen_code] = cf_old + cf_evidence * (1 - cf_old)\n",
        "\n",
        "    return cf_penyakit"
      ],
      "metadata": {
        "id": "IiPexzJoKrLL"
      },
      "execution_count": null,
      "outputs": []
    },
    {
      "cell_type": "code",
      "source": [
        "# User Interface (Sesuai Rubrik 4)\n",
        "def get_user_input():\n",
        "    \"\"\"Meminta input CF dari user dengan validasi.\"\"\"\n",
        "    user_cf = {}\n",
        "    print(\"=\"*60)\n",
        "    print(\"Masukkan Tingkat Keyakinan Anda untuk Setiap Gejala (0.0 - 1.0)\")\n",
        "    print(\"0.0 = Tidak Ada | 0.4 = Mungkin | 0.8 = Hampir Pasti | 1.0 = Pasti\")\n",
        "    print(\"=\"*60)\n",
        "    for code, desc in gejala.items():\n",
        "        while True:\n",
        "            try:\n",
        "                val = float(input(f\"-> {desc} ({code})? [0.0-1.0]: \"))\n",
        "                # Validasi input CF user (0-1)\n",
        "                if 0.0 <= val <= 1.0:\n",
        "                    user_cf[code] = val\n",
        "                    break\n",
        "                else:\n",
        "                    print(\"ERROR: Harap masukkan angka antara 0.0 dan 1.0.\")\n",
        "            except ValueError:\n",
        "                print(\"ERROR: Input tidak valid. Harap masukkan angka.\")\n",
        "    return user_cf\n",
        "\n",
        "def run_diagnose():\n",
        "    \"\"\"Fungsi utama untuk menjalankan alur diagnosa interaktif.\"\"\"\n",
        "    user_cf = get_user_input()\n",
        "    cf_results = forward_chaining(user_cf)\n",
        "\n",
        "    # Filter penyakit dengan CF > 0 untuk ditampilkan\n",
        "    diagnosed_diseases = {p: cf for p, cf in cf_results.items() if cf > 0}\n",
        "\n",
        "    if not diagnosed_diseases:\n",
        "        print(\"\\n--- HASIL DIAGNOSA ---\\nTidak ada penyakit yang terdeteksi berdasarkan gejala yang diberikan.\")\n",
        "        return\n",
        "\n",
        "    # Ranking penyakit berdasarkan CF tertinggi\n",
        "    ranked_diseases = sorted(diagnosed_diseases.items(), key=lambda item: item[1], reverse=True)\n",
        "\n",
        "    print(\"\\n\" + \"=\"*25 + \" HASIL DIAGNOSA \" + \"=\"*25)\n",
        "    print(\"Ranking Penyakit Berdasarkan Tingkat Keyakinan:\")\n",
        "    for i, (p_code, cf) in enumerate(ranked_diseases):\n",
        "        print(f\"{i+1}. {penyakit[p_code]:<25} | CF: {cf:.2%} ({cf:.4f})\")\n",
        "\n",
        "    # Kesimpulan diagnosa dan rekomendasi\n",
        "    top_disease_code = ranked_diseases[0][0]\n",
        "    top_disease_name = penyakit[top_disease_code]\n",
        "    top_disease_cf = ranked_diseases[0][1]\n",
        "\n",
        "    print(\"\\n--- KESIMPULAN ---\")\n",
        "    print(f\"Berdasarkan analisis, penyakit yang paling mungkin adalah:\")\n",
        "    print(f\"** {top_disease_name} ** dengan tingkat keyakinan {top_disease_cf:.2%}.\")\n",
        "\n",
        "    print(\"\\n--- REKOMENDASI ---\")\n",
        "    print(textwrap.fill(rekomendasi[top_disease_code], 70))\n",
        "    print(\"=\"*67)"
      ],
      "metadata": {
        "id": "IM5ZX0MXKxzS"
      },
      "execution_count": null,
      "outputs": []
    },
    {
      "cell_type": "code",
      "source": [
        "# Testing & Code Quality (Sesuai Rubrik 5)\n",
        "def run_test_cases():\n",
        "    \"\"\"Menjalankan 3 skenario uji coba yang berbeda secara otomatis.\"\"\"\n",
        "    test_cases = [\n",
        "        {\"desc\": \"Kasus 1: Gejala kuat mengarah ke Tungro (P4)\",\n",
        "         \"input\": {'G1': 0.8, 'G7': 1.0, 'G8': 0.9, 'G2': 0, 'G3': 0, 'G4': 0, 'G5': 0.2, 'G6': 0}},\n",
        "        {\"desc\": \"Kasus 2: Gejala tumpang tindih antara Hawar Daun (P1) dan Blas (P2)\",\n",
        "         \"input\": {'G1': 0.6, 'G2': 0.9, 'G3': 0.7, 'G5': 0.5, 'G6': 0.8, 'G4': 0, 'G7': 0, 'G8': 0}},\n",
        "        {\"desc\": \"Kasus 3: Gejala kuat mengarah ke Busuk Batang (P3)\",\n",
        "         \"input\": {'G4': 1.0, 'G5': 0.7, 'G1': 0.5, 'G2': 0, 'G3': 0, 'G6': 0, 'G7': 0, 'G8': 0}}\n",
        "    ]\n",
        "\n",
        "    for i, case in enumerate(test_cases):\n",
        "        print(f\"\\n--- MENJALANKAN TEST CASE {i+1}: {case['desc']} ---\")\n",
        "        results = forward_chaining(case['input'])\n",
        "        ranked = sorted(results.items(), key=lambda item: item[1], reverse=True)\n",
        "        print(\"Hasil Kalkulasi CF:\")\n",
        "        for p_code, cf in ranked:\n",
        "            if cf > 0:\n",
        "                print(f\"- {penyakit[p_code]:<25} | CF: {cf:.4f}\")\n",
        "        print(\"-\" * 55)\n",
        "\n",
        "# Program Utama\n",
        "if __name__ == \"__main__\":\n",
        "    while True:\n",
        "        print(\"\\n=== SISTEM PAKAR DIAGNOSA PENYAKIT PADI (CF) ===\")\n",
        "        print(\"1. Mulai Diagnosa Interaktif\")\n",
        "        print(\"2. Jalankan Skenario Uji Coba Otomatis\")\n",
        "        print(\"3. Keluar\")\n",
        "        choice = input(\"Pilih menu [1/2/3]: \")\n",
        "        if choice == '1':\n",
        "            run_diagnose()\n",
        "        elif choice == '2':\n",
        "            run_test_cases()\n",
        "        elif choice == '3':\n",
        "            print(\"Program selesai.\")\n",
        "            break\n",
        "        else:\n",
        "            print(\"Pilihan tidak valid.\")"
      ],
      "metadata": {
        "colab": {
          "base_uri": "https://localhost:8080/"
        },
        "id": "T3b9VmkCLyie",
        "outputId": "c31ea992-8116-421d-d414-da4b8b9f74a5"
      },
      "execution_count": null,
      "outputs": [
        {
          "output_type": "stream",
          "name": "stdout",
          "text": [
            "\n",
            "=== SISTEM PAKAR DIAGNOSA PENYAKIT PADI (CF) ===\n",
            "1. Mulai Diagnosa Interaktif\n",
            "2. Jalankan Skenario Uji Coba Otomatis\n",
            "3. Keluar\n",
            "Pilih menu [1/2/3]: 2\n",
            "\n",
            "--- MENJALANKAN TEST CASE 1: Kasus 1: Gejala kuat mengarah ke Tungro (P4) ---\n",
            "Hasil Kalkulasi CF:\n",
            "- Tungro                    | CF: 0.9915\n",
            "- Busuk Batang              | CF: 0.4840\n",
            "- Hawar Daun Bakteri        | CF: 0.4800\n",
            "- Blas                      | CF: 0.1200\n",
            "-------------------------------------------------------\n",
            "\n",
            "--- MENJALANKAN TEST CASE 2: Kasus 2: Gejala tumpang tindih antara Hawar Daun (P1) dan Blas (P2) ---\n",
            "Hasil Kalkulasi CF:\n",
            "- Hawar Daun Bakteri        | CF: 0.9212\n",
            "- Blas                      | CF: 0.8860\n",
            "- Busuk Batang              | CF: 0.5450\n",
            "- Tungro                    | CF: 0.4800\n",
            "-------------------------------------------------------\n",
            "\n",
            "--- MENJALANKAN TEST CASE 3: Kasus 3: Gejala kuat mengarah ke Busuk Batang (P3) ---\n",
            "Hasil Kalkulasi CF:\n",
            "- Busuk Batang              | CF: 0.9617\n",
            "- Blas                      | CF: 0.4200\n",
            "- Tungro                    | CF: 0.4000\n",
            "- Hawar Daun Bakteri        | CF: 0.3000\n",
            "-------------------------------------------------------\n",
            "\n",
            "=== SISTEM PAKAR DIAGNOSA PENYAKIT PADI (CF) ===\n",
            "1. Mulai Diagnosa Interaktif\n",
            "2. Jalankan Skenario Uji Coba Otomatis\n",
            "3. Keluar\n",
            "Pilih menu [1/2/3]: 3\n",
            "Program selesai.\n"
          ]
        }
      ]
    }
  ]
}